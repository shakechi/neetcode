{
 "cells": [
  {
   "cell_type": "code",
   "execution_count": 10,
   "id": "4a36e102-5770-4fb5-b0d6-cee41d85e74b",
   "metadata": {
    "tags": []
   },
   "outputs": [
    {
     "name": "stdout",
     "output_type": "stream",
     "text": [
      "True\n"
     ]
    }
   ],
   "source": [
    "import re\n",
    "s = \"A man, a plan, a canal: Panama\"\n",
    "low_s = s.lower()\n",
    "clear_s = re.sub(r'[^a-z0-9]',\"\",low_s)\n",
    "a1 = clear_s\n",
    "a2 = clear_s[::-1]\n",
    "print(a1 == a2)"
   ]
  },
  {
   "cell_type": "code",
   "execution_count": 12,
   "id": "3d2cbd88-72b7-4140-b538-5aeddb86ad88",
   "metadata": {
    "tags": []
   },
   "outputs": [
    {
     "data": {
      "text/plain": [
       "'amanaplanacanalpanama'"
      ]
     },
     "execution_count": 12,
     "metadata": {},
     "output_type": "execute_result"
    }
   ],
   "source": [
    "a1"
   ]
  },
  {
   "cell_type": "code",
   "execution_count": 13,
   "id": "3f64292a-ec2a-4d9f-9661-9df12a06c67d",
   "metadata": {
    "tags": []
   },
   "outputs": [
    {
     "data": {
      "text/plain": [
       "'amanaplanacanalpanama'"
      ]
     },
     "execution_count": 13,
     "metadata": {},
     "output_type": "execute_result"
    }
   ],
   "source": [
    "a2"
   ]
  },
  {
   "cell_type": "code",
   "execution_count": 15,
   "id": "5da5516c-a458-433d-8d33-c6c5fa516742",
   "metadata": {
    "tags": []
   },
   "outputs": [
    {
     "data": {
      "text/plain": [
       "True"
      ]
     },
     "execution_count": 15,
     "metadata": {},
     "output_type": "execute_result"
    }
   ],
   "source": [
    "a1 == a2"
   ]
  },
  {
   "cell_type": "code",
   "execution_count": null,
   "id": "b625bc51-b3a1-4725-a09a-9f1fd18585f5",
   "metadata": {},
   "outputs": [],
   "source": []
  }
 ],
 "metadata": {
  "kernelspec": {
   "display_name": "Python 3 (ipykernel)",
   "language": "python",
   "name": "python3"
  },
  "language_info": {
   "codemirror_mode": {
    "name": "ipython",
    "version": 3
   },
   "file_extension": ".py",
   "mimetype": "text/x-python",
   "name": "python",
   "nbconvert_exporter": "python",
   "pygments_lexer": "ipython3",
   "version": "3.11.3"
  }
 },
 "nbformat": 4,
 "nbformat_minor": 5
}
